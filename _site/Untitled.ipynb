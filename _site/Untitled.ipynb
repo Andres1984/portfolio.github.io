{
 "cells": [
  {
   "cell_type": "markdown",
   "id": "f151d671",
   "metadata": {
    "slideshow": {
     "slide_type": "slide"
    }
   },
   "source": [
    "<br><br><center><h1 style=\"font-size:2em;color:#193300\">Programa de Ciencia de Datos</h1></center>\n",
    "<p>\n",
    "<p><center><h1 style=\"font-size:1.7em;color:#193300\">Departamento de Matemáticas </h1></center>\n",
    "<p>\n",
    "<p><p><center><h1 style=\"font-size:1.4em;color:#193300\">  Universidad Externado de Colombia</h1></center>\n",
    "<p>\n",
    "\n",
    "\n",
    "\n",
    "\n",
    "<a href='https://www.uexternado.edu.co/programa/departamento-de-matematicas/ciencia-de-datos/'> <img src='Uexternado.png'  width=\"220\"/></a>\n",
    "\n",
    "\n"
   ]
  },
  {
   "cell_type": "markdown",
   "id": "fda7dcf3",
   "metadata": {
    "slideshow": {
     "slide_type": "slide"
    }
   },
   "source": [
    "\n",
    "<p><p><center><h1 style=\"font-size:2em;color:#193300\">  ¿Qué ***No*** es Ciencia de Datos? </h1></center>\n",
    "    \n",
    "   <p><p><center><h1 style=\"font-size:1.4em;color:#193300\">  El tesoro escondido que  dará las respuestas a todas mis preguntas, usando datos para predecir la conducta humana.</h1></center>\n",
    "\n",
    "<a href='https://www.uexternado.edu.co/programa/departamento-de-matematicas/ciencia-de-datos/'> <img src='indi.gif'  width=\"400\"/></a>\n",
    "\n",
    "    \n",
    "\n"
   ]
  },
  {
   "cell_type": "markdown",
   "id": "5127aec9",
   "metadata": {
    "slideshow": {
     "slide_type": "slide"
    }
   },
   "source": [
    "\n",
    "<p><p><center><h1 style=\"font-size:2em;color:#193300\"> ¿Qué es Ciencia de Datos? </h1></center>\n",
    "    \n",
    "<p><p><center><h1 style=\"font-size: 1em;color:#193300\">   Es un proceso de análisis multidisciplinar que me permite mejorar mi proceso de toma de desiciones.</h1></center>\n",
    "    \n",
    "    \n",
    "    \n",
    "<a> <img src='proceso.png'  width=\"1000\"/></a>\n",
    "\n",
    "\n",
    "    \n"
   ]
  },
  {
   "cell_type": "markdown",
   "id": "0ec775a5",
   "metadata": {
    "slideshow": {
     "slide_type": "slide"
    }
   },
   "source": [
    "\n",
    "<p><p><center><h1 style=\"font-size:2em;color:#193300\"> ¿Porqué Multidiciplinar? </h1></center>\n",
    "   \n",
    "<p><p><center><h1 style=\"font-size: 1em;color:#193300\">  Puede combinar elmentos de las ciencias exactas y de las ciencias sociales, esto permite que podamos aplicar con mayor rapidez nuestro conocimiento </h1></center>\n",
    "    \n",
    "    \n",
    " <a> <img src='aplicacion.jpg'  width=\"1000\"/></a>\n",
    "\n",
    "\n",
    "    "
   ]
  },
  {
   "cell_type": "markdown",
   "id": "e435d773",
   "metadata": {
    "slideshow": {
     "slide_type": "slide"
    }
   },
   "source": [
    "\n",
    "<p><p><center><h1 style=\"font-size:2em;color:#193300\"> Fase inicial </h1></center>\n",
    "   \n",
    "<p><p><center><h1 style=\"font-size: 1em;color:#193300\">  A través de la programación, primero se procesan y se visualizan los datos. Después, se usan las ciencias extactas se desarrollan los modelos </h1></center>\n",
    "    \n",
    "    \n",
    " <a> <img src='ramas.png'  width=\"1000\"/></a>\n",
    "\n"
   ]
  },
  {
   "cell_type": "markdown",
   "id": "58c93f55",
   "metadata": {
    "slideshow": {
     "slide_type": "slide"
    }
   },
   "source": [
    "\n",
    "<p><p><center><h1 style=\"font-size:2em;color:#193300\"> Fase inicial </h1></center>\n",
    "\n",
    "    \n",
    "    \n",
    " <a> <img src='ramas1.png'  width=\"1000\"/></a>\n",
    "\n",
    "    \n"
   ]
  },
  {
   "cell_type": "markdown",
   "id": "e91a4ec4",
   "metadata": {
    "slideshow": {
     "slide_type": "slide"
    }
   },
   "source": [
    "<p><p><center><h1 style=\"font-size:2em;color:#193300\"> Fase Final </h1></center>\n",
    "\n",
    "<p><p><center><h1 style=\"font-size: 1em;color:#193300\"> Es la intepretación y presentación de los resultados. Es la razón por la que la ciencia de datos es tán relevante para industria. </h1></center>\n",
    "    \n",
    "    \n",
    "        \n",
    " <a> <img src='fasefinal.png'  width=\"1000\"/></a>\n",
    "    \n",
    "    \n"
   ]
  },
  {
   "cell_type": "markdown",
   "id": "8a1811bd",
   "metadata": {
    "slideshow": {
     "slide_type": "slide"
    }
   },
   "source": [
    "<p><p><center><h1 style=\"font-size:2em;color:#193300\"> Resumen </h1></center>\n",
    "\n",
    "<p><p><left><h1 style=\"font-size: 1em;color:#193300\"> Un científico de datos es un profesional que puede ofrecer información  a través de modelos matemáticos para la solución de problemas de la vida real. </h1></left>\n",
    " \n",
    "<p><p><left><h1 style=\"font-size: 1em;color:#193300\"> Las etapas son:  </h1></left>   \n",
    "    \n",
    "* <p><p><left><h1 style=\"font-size: 1em;color:#193300\"> Conocer el contexto de los datos y la problemática a resolver.  </h1></left>\n",
    "* <p><p><left><h1 style=\"font-size: 1em;color:#193300\"> Recolectarlos y procesarlos  </h1></left>   \n",
    "* <p><p><left><h1 style=\"font-size: 1em;color:#193300\"> Hacer un análisis exploratorio  </h1></left>   \n",
    "* <p><p><left><h1 style=\"font-size: 1em;color:#193300\"> Establecer el mejor modelo para resolver el problema.  </h1></left>      \n",
    "* <p><p><left><h1 style=\"font-size: 1em;color:#193300\"> Ajustar el modelo. </h1></left>    \n",
    "* <p><p><left><h1 style=\"font-size: 1em;color:#193300\"> Validar los resultados.  </h1></left>   \n",
    "* <p><p><left><h1 style=\"font-size: 1em;color:#193300\"> Intepretar y analizar los resultados.  </h1></left>       \n",
    "    "
   ]
  },
  {
   "cell_type": "code",
   "execution_count": null,
   "id": "a62b08d5",
   "metadata": {},
   "outputs": [],
   "source": []
  }
 ],
 "metadata": {
  "celltoolbar": "Slideshow",
  "kernelspec": {
   "display_name": "Python 3",
   "language": "python",
   "name": "python3"
  },
  "language_info": {
   "codemirror_mode": {
    "name": "ipython",
    "version": 3
   },
   "file_extension": ".py",
   "mimetype": "text/x-python",
   "name": "python",
   "nbconvert_exporter": "python",
   "pygments_lexer": "ipython3",
   "version": "3.8.8"
  }
 },
 "nbformat": 4,
 "nbformat_minor": 5
}
